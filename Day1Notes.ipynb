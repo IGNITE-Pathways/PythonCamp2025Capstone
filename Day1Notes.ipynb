{
 "cells": [
  {
   "cell_type": "markdown",
   "id": "1a658942",
   "metadata": {},
   "source": [
    "# 🏹 Python Game Dev Camp - Session 1\n",
    "## Python Basics + Game Window Setup"
   ]
  },
  {
   "cell_type": "markdown",
   "id": "efd7cf70",
   "metadata": {},
   "source": [
    "### Objectives\n",
    "- Understand variables, input/output, and data types\n",
    "- Learn the 2D coordinate system\n",
    "- Set up a Pygame window and background\n",
    "- Display a sprite (archer)\n",
    "- Learn the basic game loop\n",
    "\n",
    "---\n",
    "> These are the core learning goals for today's session."
   ]
  },
  {
   "cell_type": "markdown",
   "id": "02afb79a",
   "metadata": {},
   "source": [
    "## 🔹 Introduction to Python & Pygame\n",
    "\n",
    "**Python** is a beginner-friendly language great for learning programming.\n",
    "\n",
    "**Pygame** is a library that helps you create 2D games using Python.\n",
    "\n",
    "You install it using:\n",
    "```bash\n",
    "pip install pygame\n",
    "```\n",
    "\n",
    "On Replit, Pygame is preinstalled in the `pygame` template."
   ]
  },
  {
   "cell_type": "markdown",
   "id": "45035d63",
   "metadata": {},
   "source": [
    "## 🔹 Python Basics Refresher"
   ]
  },
  {
   "cell_type": "code",
   "execution_count": null,
   "id": "a9db8027",
   "metadata": {},
   "outputs": [],
   "source": [
    "# --- Code Block ---\n",
    "# Below is a section of code explained in context\n",
    "# Variables and Print\n",
    "player_name = \"Robin\"\n",
    "score = 0\n",
    "print(\"Welcome,\", player_name)\n",
    "print(\"Score:\", score)"
   ]
  },
  {
   "cell_type": "code",
   "execution_count": null,
   "id": "ab92d016",
   "metadata": {},
   "outputs": [],
   "source": [
    "# --- Code Block ---\n",
    "# Below is a section of code explained in context\n",
    "# Data Types\n",
    "lives = 3           # integer\n",
    "health = 75.5       # float\n",
    "is_alive = True     # boolean\n",
    "inventory = [\"bow\", \"arrow\"]  # list"
   ]
  },
  {
   "cell_type": "markdown",
   "id": "db3cfcdf",
   "metadata": {},
   "source": [
    "## 🧭 2D Coordinate System\n",
    "\n",
    "- The top-left of the screen is `(0, 0)`.\n",
    "- X increases to the right, Y increases downward.\n",
    "\n",
    "```\n",
    "(0,0)  -----------> X\n",
    "  |\n",
    "  |\n",
    "  V\n",
    "  Y\n",
    "```"
   ]
  },
  {
   "cell_type": "markdown",
   "id": "6e590c97",
   "metadata": {},
   "source": [
    "## 🔹 Setting up Pygame"
   ]
  },
  {
   "cell_type": "code",
   "execution_count": null,
   "id": "1ae44ec3",
   "metadata": {},
   "outputs": [],
   "source": [
    "# --- Code Block ---\n",
    "# Below is a section of code explained in context\n",
    "import pygame\n",
    "import sys\n",
    "\n",
    "pygame.init()\n",
    "\n",
    "# Set up the display\n",
    "width, height = 800, 600\n",
    "screen = pygame.display.set_mode((width, height))\n",
    "pygame.display.set_caption(\"Archery Game\")"
   ]
  },
  {
   "cell_type": "markdown",
   "id": "0094378c",
   "metadata": {},
   "source": [
    "## 🔹 Drawing a Background and Archer"
   ]
  },
  {
   "cell_type": "code",
   "execution_count": null,
   "id": "26b2a22e",
   "metadata": {},
   "outputs": [],
   "source": [
    "# --- Code Block ---\n",
    "# Below is a section of code explained in context\n",
    "# Load images\n",
    "background = pygame.image.load(\"sprites/sunset.png\")\n",
    "archer = pygame.image.load(\"sprites/greenarrow.png\")\n",
    "archer = pygame.transform.scale(archer, (100, 100))\n",
    "\n",
    "# Get rect for positioning\n",
    "archer_rect = archer.get_rect()\n",
    "archer_rect.center = (width // 2, height - 80)"
   ]
  },
  {
   "cell_type": "markdown",
   "id": "18a84991",
   "metadata": {},
   "source": [
    "## 🔁 The Game Loop\n",
    "This loop keeps the game running, checks for input, and updates the screen."
   ]
  },
  {
   "cell_type": "code",
   "execution_count": null,
   "id": "f05b10a9",
   "metadata": {},
   "outputs": [],
   "source": [
    "# --- Code Block ---\n",
    "# Below is a section of code explained in context\n",
    "running = True\n",
    "while running:\n",
    "    for event in pygame.event.get():\n",
    "        if event.type == pygame.QUIT:\n",
    "            pygame.quit()\n",
    "            sys.exit()\n",
    "\n",
    "    screen.blit(background, (0, 0))  # draw background\n",
    "    screen.blit(archer, archer_rect)  # draw archer\n",
    "    pygame.display.flip()  # update screen"
   ]
  },
  {
   "cell_type": "markdown",
   "id": "3b53c001",
   "metadata": {},
   "source": [
    "## ✅ Mini Project: Archery Game Start\n",
    "\n",
    "**Goal:** Load the game window, draw a background, and place the archer."
   ]
  },
  {
   "cell_type": "markdown",
   "id": "710329af",
   "metadata": {},
   "source": [
    "## 🧪 Practice Exercises\n",
    "1. Try changing the background image\n",
    "2. Move the archer to a different position using `archer_rect.center`\n",
    "3. Change the window size and see how elements shift\n",
    "> Try these exercises on your own or with a partner."
   ]
  },
  {
   "cell_type": "markdown",
   "id": "9da16231",
   "metadata": {},
   "source": [
    "## 🧠 Tips & Gotchas\n",
    "- Always call `pygame.init()` before anything else.\n",
    "- The game loop must call `pygame.display.flip()` to show changes.\n",
    "- Use `blit()` to draw images to the screen.\n",
    "> These are common mistakes or advanced tips to help you succeed."
   ]
  },
  {
   "cell_type": "markdown",
   "id": "807d5120",
   "metadata": {},
   "source": [
    "## 🔚 Cumulative Code Snapshot (Session 1)\n",
    "\n",
    "This is your starting template for the Archery Game.\n",
    "> This is the complete working code up to this session."
   ]
  },
  {
   "cell_type": "code",
   "execution_count": null,
   "id": "3111797e",
   "metadata": {},
   "outputs": [],
   "source": [
    "# --- Code Block ---\n",
    "# Below is a section of code explained in context\n",
    "# Full Session 1 code\n",
    "import pygame, sys\n",
    "pygame.init()\n",
    "\n",
    "width, height = 800, 600\n",
    "screen = pygame.display.set_mode((width, height))\n",
    "pygame.display.set_caption(\"Archery Game\")\n",
    "\n",
    "background = pygame.image.load(\"sprites/sunset.png\")\n",
    "archer = pygame.image.load(\"sprites/greenarrow.png\")\n",
    "archer = pygame.transform.scale(archer, (100, 100))\n",
    "archer_rect = archer.get_rect()\n",
    "archer_rect.center = (width // 2, height - 80)\n",
    "\n",
    "running = True\n",
    "while running:\n",
    "    for event in pygame.event.get():\n",
    "        if event.type == pygame.QUIT:\n",
    "            pygame.quit()\n",
    "            sys.exit()\n",
    "\n",
    "    screen.blit(background, (0, 0))\n",
    "    screen.blit(archer, archer_rect)\n",
    "    pygame.display.flip()"
   ]
  }
 ],
 "metadata": {},
 "nbformat": 4,
 "nbformat_minor": 5
}
